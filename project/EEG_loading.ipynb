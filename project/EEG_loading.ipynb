{
 "cells": [
  {
   "attachments": {},
   "cell_type": "markdown",
   "metadata": {},
   "source": [
    "#### Imports"
   ]
  },
  {
   "cell_type": "code",
   "execution_count": 157,
   "metadata": {
    "collapsed": true
   },
   "outputs": [],
   "source": [
    "import tensorflow as tf                  \n",
    "import tensorflow.nn as nn               \n",
    "from tensorflow import keras             \n",
    "import tensorflow.keras.layers as layers \n",
    "import numpy as np                       \n",
    "from sklearn.model_selection import train_test_split   \n",
    "from tensorflow.keras.metrics import categorical_accuracy\n",
    "from tensorflow.keras.models import Sequential\n",
    "from tensorflow.keras.layers import BatchNormalization, Conv2D, Dense, Dropout, ELU, Flatten, MaxPool2D\n",
    "from tensorflow.keras.regularizers import L1L2\n",
    "from tensorflow.keras.utils import to_categorical\n",
    "from tensorflow.keras.initializers import lecun_uniform\n",
    "from tensorflow.keras.optimizers import Adam\n",
    "import numpy as np\n",
    "import matplotlib.pyplot as plt"
   ]
  },
  {
   "attachments": {},
   "cell_type": "markdown",
   "metadata": {},
   "source": [
    "#### Preprocessing"
   ]
  },
  {
   "cell_type": "code",
   "execution_count": 158,
   "metadata": {
    "collapsed": true
   },
   "outputs": [],
   "source": [
    "X_test = np.load(\"X_test.npy\")\n",
    "y_test = np.load(\"y_test.npy\")\n",
    "person_train_valid = np.load(\"person_train_valid.npy\")\n",
    "X_train_valid = np.load(\"X_train_valid.npy\")\n",
    "y_train_valid = np.load(\"y_train_valid.npy\")\n",
    "person_test = np.load(\"person_test.npy\")\n"
   ]
  },
  {
   "cell_type": "code",
   "execution_count": 159,
   "metadata": {},
   "outputs": [
    {
     "name": "stdout",
     "output_type": "stream",
     "text": [
      "Training/Valid data shape: (2115, 22, 1000)\n",
      "Test data shape: (443, 22, 1000)\n",
      "Training/Valid target shape: (2115,)\n",
      "Test target shape: (443,)\n",
      "Person train/valid shape: (2115, 1)\n",
      "Person test shape: (443, 1)\n"
     ]
    }
   ],
   "source": [
    "print ('Training/Valid data shape: {}'.format(X_train_valid.shape))\n",
    "print ('Test data shape: {}'.format(X_test.shape))\n",
    "print ('Training/Valid target shape: {}'.format(y_train_valid.shape))\n",
    "print ('Test target shape: {}'.format(y_test.shape))\n",
    "print ('Person train/valid shape: {}'.format(person_train_valid.shape))\n",
    "print ('Person test shape: {}'.format(person_test.shape))\n"
   ]
  },
  {
   "cell_type": "code",
   "execution_count": 160,
   "metadata": {},
   "outputs": [
    {
     "name": "stdout",
     "output_type": "stream",
     "text": [
      "training data: (2115, 1000, 22)\n",
      "testing data: (443, 1000, 22)\n"
     ]
    }
   ],
   "source": [
    "# rearange input dimensions\n",
    "# model expects (batch, seq, features) but currently we have (batch, features, seq)\n",
    "\n",
    "X_train_valid = np.transpose(X_train_valid, (0, 2, 1))\n",
    "X_test = np.transpose(X_test, (0, 2, 1))\n",
    "\n",
    "print(\"training data:\", X_train_valid.shape)\n",
    "print(\"testing data:\", X_test.shape)"
   ]
  },
  {
   "cell_type": "code",
   "execution_count": 161,
   "metadata": {},
   "outputs": [],
   "source": [
    "# re-assign labels to be between 0 and 3\n",
    "y_train_valid[y_train_valid==769] = 0  # cue onset left\n",
    "y_train_valid[y_train_valid==770] = 1  # cue onset right\n",
    "y_train_valid[y_train_valid==771] = 2  # cue onset foot\n",
    "y_train_valid[y_train_valid==772] = 3  # cue onset tongue\n",
    "\n",
    "y_test[y_test==769] = 0  # cue onset left\n",
    "y_test[y_test==770] = 1  # cue onset right\n",
    "y_test[y_test==771] = 2  # cue onset foot\n",
    "y_test[y_test==772] = 3  # cue onset tongue"
   ]
  },
  {
   "cell_type": "code",
   "execution_count": 162,
   "metadata": {},
   "outputs": [],
   "source": [
    "# split the training and validation\n",
    "from sklearn.model_selection import train_test_split\n",
    "X_train, X_valid, y_train, y_valid = train_test_split(X_train_valid, y_train_valid, test_size=0.2, random_state=12345)"
   ]
  },
  {
   "cell_type": "code",
   "execution_count": 163,
   "metadata": {},
   "outputs": [
    {
     "name": "stdout",
     "output_type": "stream",
     "text": [
      "training images: (1692, 1000, 22, 1)\n",
      "training labels: (1692,)\n",
      "validation images: (423, 1000, 22, 1)\n",
      "validation labels: (423,)\n",
      "test images: (443, 1000, 22, 1)\n",
      "test labels: (443,)\n"
     ]
    }
   ],
   "source": [
    "# add extra dimension for grayscale images\n",
    "X_train_grayscale = np.expand_dims(X_train, axis=-1)\n",
    "X_valid_grayscale = np.expand_dims(X_valid, axis=-1)\n",
    "X_test_grayscale = np.expand_dims(X_test, axis=-1)\n",
    "\n",
    "print(\"training images:\", X_train_grayscale.shape)\n",
    "print(\"training labels:\", y_train.shape)\n",
    "print(\"validation images:\", X_valid_grayscale.shape)\n",
    "print(\"validation labels:\", y_valid.shape)\n",
    "print(\"test images:\", X_test_grayscale.shape)\n",
    "print(\"test labels:\", y_test.shape)"
   ]
  },
  {
   "cell_type": "code",
   "execution_count": 164,
   "metadata": {},
   "outputs": [],
   "source": [
    "# construct the dataset from the NumPy arrays\n",
    "X_train_grayscale = tf.data.Dataset.from_tensor_slices((X_train_grayscale, y_train))\n",
    "X_valid_grayscale = tf.data.Dataset.from_tensor_slices((X_valid_grayscale, y_valid))\n",
    "X_test_grayscale = tf.data.Dataset.from_tensor_slices((X_test_grayscale, y_test))\n",
    "\n",
    "# batch and shuffle\n",
    "X_train_grayscale = X_train_grayscale.shuffle(1000).batch(32)\n",
    "X_valid_grayscale = X_valid_grayscale.shuffle(300).batch(32)\n",
    "X_test_grayscale = X_test_grayscale.shuffle(300).batch(32)\n",
    "\n",
    "\n",
    "# construct the dataset from the NumPy arrays\n",
    "X_train = tf.data.Dataset.from_tensor_slices((X_train, y_train))\n",
    "X_valid = tf.data.Dataset.from_tensor_slices((X_valid, y_valid))\n",
    "X_test = tf.data.Dataset.from_tensor_slices((X_test, y_test))\n",
    "\n",
    "# batch and shuffle\n",
    "X_train = X_train.shuffle(1024).batch(32)\n",
    "X_valid = X_valid.shuffle(1024).batch(32)\n",
    "X_test = X_test.shuffle(1024).batch(32)\n",
    "\n"
   ]
  },
  {
   "attachments": {},
   "cell_type": "markdown",
   "metadata": {},
   "source": [
    "## Default Project"
   ]
  },
  {
   "attachments": {},
   "cell_type": "markdown",
   "metadata": {},
   "source": [
    "#### 1. Optimize the classification accuracy for subject 1. Does it help to train across all subjects?"
   ]
  },
  {
   "attachments": {},
   "cell_type": "markdown",
   "metadata": {},
   "source": [
    "#### Model"
   ]
  },
  {
   "cell_type": "code",
   "execution_count": 165,
   "metadata": {},
   "outputs": [
    {
     "name": "stdout",
     "output_type": "stream",
     "text": [
      "Model: \"eeg_resnet\"\n",
      "__________________________________________________________________________________________________\n",
      " Layer (type)                   Output Shape         Param #     Connected to                     \n",
      "==================================================================================================\n",
      " eeg (InputLayer)               [(None, 1000, 22, 1  0           []                               \n",
      "                                )]                                                                \n",
      "                                                                                                  \n",
      " conv1 (Conv2D)                 (None, 39, 22, 6)    306         ['eeg[0][0]']                    \n",
      "                                                                                                  \n",
      " conv2 (Conv2D)                 (None, 39, 22, 6)    150         ['conv1[0][0]']                  \n",
      "                                                                                                  \n",
      " add_10 (Add)                   (None, 39, 22, 6)    0           ['conv1[0][0]',                  \n",
      "                                                                  'conv2[0][0]']                  \n",
      "                                                                                                  \n",
      " average_pooling2d_10 (AverageP  (None, 3, 11, 6)    0           ['add_10[0][0]']                 \n",
      " ooling2D)                                                                                        \n",
      "                                                                                                  \n",
      " flatten_10 (Flatten)           (None, 198)          0           ['average_pooling2d_10[0][0]']   \n",
      "                                                                                                  \n",
      " fully-connected-1 (Dense)      (None, 32)           6368        ['flatten_10[0][0]']             \n",
      "                                                                                                  \n",
      " class-probs (Dense)            (None, 4)            132         ['fully-connected-1[0][0]']      \n",
      "                                                                                                  \n",
      "==================================================================================================\n",
      "Total params: 6,956\n",
      "Trainable params: 6,956\n",
      "Non-trainable params: 0\n",
      "__________________________________________________________________________________________________\n"
     ]
    }
   ],
   "source": [
    "# create an input layer for grayscale image\n",
    "inputs = keras.Input(shape=(1000,22,1), name='eeg')\n",
    "\n",
    "# define a sequence of operations on tensors\n",
    "block_1_output = keras.layers.Conv2D(6, (50,1), strides=(25,1), name='conv1')(inputs)\n",
    "# block_2_output must have same shape so change the padding to same and strides=1\n",
    "block_2_output = keras.layers.Conv2D(6, (1, 4), strides=(1,1), padding='same', \n",
    "                                     name='conv2')(block_1_output)\n",
    "# add the outputs from block 1 and block 2 together\n",
    "x = keras.layers.add([block_1_output, block_2_output])\n",
    "\n",
    "# continue with the rest of the model\n",
    "x = keras.layers.AveragePooling2D(pool_size=(10,2))(x)\n",
    "x = keras.layers.Flatten()(x)\n",
    "x = keras.layers.Dense(32, name='fully-connected-1')(x)\n",
    "class_probs = keras.layers.Dense(4, activation=nn.softmax, name='class-probs')(x)\n",
    "\n",
    "# now wrap the model inputs and outputs\n",
    "res_clf = keras.Model(inputs=inputs, outputs=class_probs, name=\"eeg_resnet\")\n",
    "\n",
    "# we can now print a summary of the model as before\n",
    "res_clf.summary()"
   ]
  },
  {
   "attachments": {},
   "cell_type": "markdown",
   "metadata": {},
   "source": [
    "#### Hyperparameters"
   ]
  },
  {
   "cell_type": "code",
   "execution_count": 166,
   "metadata": {},
   "outputs": [],
   "source": [
    "epochs = 2\n",
    "loss_function = keras.losses.SparseCategoricalCrossentropy()\n",
    "optimizer = keras.optimizers.Adam(learning_rate=1e-3, decay=1e-5)"
   ]
  },
  {
   "attachments": {},
   "cell_type": "markdown",
   "metadata": {},
   "source": [
    "#### Training"
   ]
  },
  {
   "cell_type": "code",
   "execution_count": 167,
   "metadata": {},
   "outputs": [
    {
     "name": "stdout",
     "output_type": "stream",
     "text": [
      "Epoch 1/100\n",
      "53/53 [==============================] - 2s 21ms/step - loss: 2.1975 - accuracy: 0.2790 - val_loss: 1.5637 - val_accuracy: 0.2837\n",
      "Epoch 2/100\n",
      "53/53 [==============================] - 1s 17ms/step - loss: 1.4326 - accuracy: 0.3268 - val_loss: 1.4378 - val_accuracy: 0.3286\n",
      "Epoch 3/100\n",
      "53/53 [==============================] - 1s 15ms/step - loss: 1.3393 - accuracy: 0.3918 - val_loss: 1.3743 - val_accuracy: 0.3617\n",
      "Epoch 4/100\n",
      "53/53 [==============================] - 1s 16ms/step - loss: 1.2875 - accuracy: 0.4155 - val_loss: 1.3286 - val_accuracy: 0.3853\n",
      "Epoch 5/100\n",
      "53/53 [==============================] - 1s 14ms/step - loss: 1.2460 - accuracy: 0.4498 - val_loss: 1.3262 - val_accuracy: 0.3877\n",
      "Epoch 6/100\n",
      "53/53 [==============================] - 1s 14ms/step - loss: 1.2186 - accuracy: 0.4563 - val_loss: 1.2816 - val_accuracy: 0.4397\n",
      "Epoch 7/100\n",
      "53/53 [==============================] - 1s 15ms/step - loss: 1.1998 - accuracy: 0.4787 - val_loss: 1.2856 - val_accuracy: 0.4350\n",
      "Epoch 8/100\n",
      "53/53 [==============================] - 1s 15ms/step - loss: 1.1857 - accuracy: 0.4681 - val_loss: 1.2684 - val_accuracy: 0.4232\n",
      "Epoch 9/100\n",
      "53/53 [==============================] - 1s 16ms/step - loss: 1.1718 - accuracy: 0.4793 - val_loss: 1.2892 - val_accuracy: 0.4326\n",
      "Epoch 10/100\n",
      "53/53 [==============================] - 1s 15ms/step - loss: 1.1621 - accuracy: 0.4988 - val_loss: 1.2667 - val_accuracy: 0.4350\n",
      "Epoch 11/100\n",
      "53/53 [==============================] - 1s 15ms/step - loss: 1.1473 - accuracy: 0.5012 - val_loss: 1.2575 - val_accuracy: 0.4374\n",
      "Epoch 12/100\n",
      "53/53 [==============================] - 1s 16ms/step - loss: 1.1406 - accuracy: 0.5024 - val_loss: 1.2925 - val_accuracy: 0.4303\n",
      "Epoch 13/100\n",
      "53/53 [==============================] - 1s 15ms/step - loss: 1.1280 - accuracy: 0.5100 - val_loss: 1.2774 - val_accuracy: 0.4397\n",
      "Epoch 14/100\n",
      "53/53 [==============================] - 1s 14ms/step - loss: 1.1196 - accuracy: 0.5136 - val_loss: 1.2619 - val_accuracy: 0.4374\n",
      "Epoch 15/100\n",
      "53/53 [==============================] - 1s 15ms/step - loss: 1.1127 - accuracy: 0.5248 - val_loss: 1.2652 - val_accuracy: 0.4043\n",
      "Epoch 16/100\n",
      "53/53 [==============================] - 1s 16ms/step - loss: 1.1063 - accuracy: 0.5248 - val_loss: 1.2684 - val_accuracy: 0.4303\n",
      "Epoch 17/100\n",
      "53/53 [==============================] - 1s 16ms/step - loss: 1.1028 - accuracy: 0.5331 - val_loss: 1.2446 - val_accuracy: 0.4634\n",
      "Epoch 18/100\n",
      "53/53 [==============================] - 1s 15ms/step - loss: 1.0955 - accuracy: 0.5307 - val_loss: 1.2616 - val_accuracy: 0.4468\n",
      "Epoch 19/100\n",
      "53/53 [==============================] - 1s 14ms/step - loss: 1.0915 - accuracy: 0.5355 - val_loss: 1.2872 - val_accuracy: 0.4468\n",
      "Epoch 20/100\n",
      "53/53 [==============================] - 1s 14ms/step - loss: 1.0875 - accuracy: 0.5408 - val_loss: 1.2642 - val_accuracy: 0.4515\n",
      "Epoch 21/100\n",
      "53/53 [==============================] - 1s 16ms/step - loss: 1.0769 - accuracy: 0.5378 - val_loss: 1.2859 - val_accuracy: 0.4468\n",
      "Epoch 22/100\n",
      "53/53 [==============================] - 1s 16ms/step - loss: 1.0743 - accuracy: 0.5414 - val_loss: 1.2751 - val_accuracy: 0.4374\n",
      "Epoch 23/100\n",
      "53/53 [==============================] - 1s 16ms/step - loss: 1.0642 - accuracy: 0.5502 - val_loss: 1.3003 - val_accuracy: 0.4444\n",
      "Epoch 24/100\n",
      "53/53 [==============================] - 1s 15ms/step - loss: 1.0618 - accuracy: 0.5502 - val_loss: 1.2732 - val_accuracy: 0.4539\n",
      "Epoch 25/100\n",
      "53/53 [==============================] - 1s 15ms/step - loss: 1.0653 - accuracy: 0.5508 - val_loss: 1.2873 - val_accuracy: 0.4444\n",
      "Epoch 26/100\n",
      "53/53 [==============================] - 1s 14ms/step - loss: 1.0594 - accuracy: 0.5431 - val_loss: 1.3091 - val_accuracy: 0.4350\n",
      "Epoch 27/100\n",
      "53/53 [==============================] - 1s 14ms/step - loss: 1.0517 - accuracy: 0.5626 - val_loss: 1.2903 - val_accuracy: 0.4326\n",
      "Epoch 28/100\n",
      "53/53 [==============================] - 1s 15ms/step - loss: 1.0582 - accuracy: 0.5508 - val_loss: 1.2974 - val_accuracy: 0.4468\n",
      "Epoch 29/100\n",
      "53/53 [==============================] - 1s 19ms/step - loss: 1.0430 - accuracy: 0.5686 - val_loss: 1.3205 - val_accuracy: 0.4421\n",
      "Epoch 30/100\n",
      "53/53 [==============================] - 1s 19ms/step - loss: 1.0435 - accuracy: 0.5526 - val_loss: 1.2750 - val_accuracy: 0.4681\n",
      "Epoch 31/100\n",
      "53/53 [==============================] - 1s 16ms/step - loss: 1.0539 - accuracy: 0.5532 - val_loss: 1.2962 - val_accuracy: 0.4610\n",
      "Epoch 32/100\n",
      "53/53 [==============================] - 1s 17ms/step - loss: 1.0399 - accuracy: 0.5638 - val_loss: 1.3104 - val_accuracy: 0.4468\n",
      "Epoch 33/100\n",
      "53/53 [==============================] - 1s 15ms/step - loss: 1.0314 - accuracy: 0.5686 - val_loss: 1.3373 - val_accuracy: 0.4468\n",
      "Epoch 34/100\n",
      "53/53 [==============================] - 1s 15ms/step - loss: 1.0336 - accuracy: 0.5632 - val_loss: 1.3060 - val_accuracy: 0.4444\n",
      "Epoch 35/100\n",
      "53/53 [==============================] - 1s 15ms/step - loss: 1.0234 - accuracy: 0.5715 - val_loss: 1.3019 - val_accuracy: 0.4586\n",
      "Epoch 36/100\n",
      "53/53 [==============================] - 1s 17ms/step - loss: 1.0285 - accuracy: 0.5609 - val_loss: 1.3008 - val_accuracy: 0.4303\n",
      "Epoch 37/100\n",
      "53/53 [==============================] - 1s 16ms/step - loss: 1.0229 - accuracy: 0.5733 - val_loss: 1.3149 - val_accuracy: 0.4563\n",
      "Epoch 38/100\n",
      "53/53 [==============================] - 1s 16ms/step - loss: 1.0236 - accuracy: 0.5827 - val_loss: 1.3142 - val_accuracy: 0.4728\n",
      "Epoch 39/100\n",
      "53/53 [==============================] - 1s 16ms/step - loss: 1.0237 - accuracy: 0.5721 - val_loss: 1.2753 - val_accuracy: 0.4539\n",
      "Epoch 40/100\n",
      "53/53 [==============================] - 1s 16ms/step - loss: 1.0144 - accuracy: 0.5751 - val_loss: 1.3450 - val_accuracy: 0.4397\n",
      "Epoch 41/100\n",
      "53/53 [==============================] - 1s 15ms/step - loss: 1.0183 - accuracy: 0.5721 - val_loss: 1.3442 - val_accuracy: 0.4444\n",
      "Epoch 42/100\n",
      "53/53 [==============================] - 1s 16ms/step - loss: 1.0100 - accuracy: 0.5810 - val_loss: 1.3144 - val_accuracy: 0.4468\n",
      "Epoch 43/100\n",
      "53/53 [==============================] - 1s 16ms/step - loss: 1.0002 - accuracy: 0.5851 - val_loss: 1.2921 - val_accuracy: 0.4657\n",
      "Epoch 44/100\n",
      "53/53 [==============================] - 1s 16ms/step - loss: 1.0038 - accuracy: 0.5739 - val_loss: 1.3316 - val_accuracy: 0.4374\n",
      "Epoch 45/100\n",
      "53/53 [==============================] - 1s 15ms/step - loss: 0.9938 - accuracy: 0.5904 - val_loss: 1.3333 - val_accuracy: 0.4326\n",
      "Epoch 46/100\n",
      "53/53 [==============================] - 1s 16ms/step - loss: 1.0005 - accuracy: 0.5934 - val_loss: 1.3443 - val_accuracy: 0.4563\n",
      "Epoch 47/100\n",
      "53/53 [==============================] - 1s 17ms/step - loss: 0.9929 - accuracy: 0.5833 - val_loss: 1.3196 - val_accuracy: 0.4586\n",
      "Epoch 48/100\n",
      "53/53 [==============================] - 1s 16ms/step - loss: 0.9971 - accuracy: 0.5881 - val_loss: 1.3549 - val_accuracy: 0.4539\n",
      "Epoch 49/100\n",
      "53/53 [==============================] - 1s 15ms/step - loss: 1.0022 - accuracy: 0.5898 - val_loss: 1.3737 - val_accuracy: 0.4610\n",
      "Epoch 50/100\n",
      "53/53 [==============================] - 1s 15ms/step - loss: 0.9891 - accuracy: 0.5881 - val_loss: 1.3674 - val_accuracy: 0.4421\n",
      "Epoch 51/100\n",
      "53/53 [==============================] - 1s 16ms/step - loss: 0.9815 - accuracy: 0.5940 - val_loss: 1.3644 - val_accuracy: 0.4279\n",
      "Epoch 52/100\n",
      "53/53 [==============================] - 1s 15ms/step - loss: 0.9786 - accuracy: 0.5869 - val_loss: 1.3447 - val_accuracy: 0.4303\n",
      "Epoch 53/100\n",
      "53/53 [==============================] - 1s 15ms/step - loss: 0.9795 - accuracy: 0.5875 - val_loss: 1.3621 - val_accuracy: 0.4468\n",
      "Epoch 54/100\n",
      "53/53 [==============================] - 1s 15ms/step - loss: 0.9813 - accuracy: 0.5822 - val_loss: 1.3702 - val_accuracy: 0.4515\n",
      "Epoch 55/100\n",
      "53/53 [==============================] - 1s 17ms/step - loss: 0.9853 - accuracy: 0.5839 - val_loss: 1.3567 - val_accuracy: 0.4610\n",
      "Epoch 56/100\n",
      "53/53 [==============================] - 1s 16ms/step - loss: 0.9755 - accuracy: 0.5863 - val_loss: 1.3754 - val_accuracy: 0.4303\n",
      "Epoch 57/100\n",
      "53/53 [==============================] - 1s 15ms/step - loss: 0.9791 - accuracy: 0.5792 - val_loss: 1.3717 - val_accuracy: 0.4492\n",
      "Epoch 58/100\n",
      "53/53 [==============================] - 1s 16ms/step - loss: 0.9709 - accuracy: 0.6022 - val_loss: 1.3601 - val_accuracy: 0.4539\n",
      "Epoch 59/100\n",
      "53/53 [==============================] - 1s 15ms/step - loss: 0.9699 - accuracy: 0.6005 - val_loss: 1.3761 - val_accuracy: 0.4634\n",
      "Epoch 60/100\n",
      "53/53 [==============================] - 1s 15ms/step - loss: 0.9674 - accuracy: 0.5975 - val_loss: 1.3595 - val_accuracy: 0.4634\n",
      "Epoch 61/100\n",
      "53/53 [==============================] - 1s 15ms/step - loss: 0.9613 - accuracy: 0.5975 - val_loss: 1.4124 - val_accuracy: 0.4492\n",
      "Epoch 62/100\n",
      "53/53 [==============================] - 1s 16ms/step - loss: 0.9661 - accuracy: 0.5987 - val_loss: 1.3887 - val_accuracy: 0.4444\n",
      "Epoch 63/100\n",
      "53/53 [==============================] - 1s 15ms/step - loss: 0.9614 - accuracy: 0.5969 - val_loss: 1.3730 - val_accuracy: 0.4326\n",
      "Epoch 64/100\n",
      "53/53 [==============================] - 1s 16ms/step - loss: 0.9576 - accuracy: 0.6076 - val_loss: 1.3781 - val_accuracy: 0.4515\n",
      "Epoch 65/100\n",
      "53/53 [==============================] - 1s 16ms/step - loss: 0.9572 - accuracy: 0.5987 - val_loss: 1.3998 - val_accuracy: 0.4350\n",
      "Epoch 66/100\n",
      "53/53 [==============================] - 1s 16ms/step - loss: 0.9594 - accuracy: 0.6034 - val_loss: 1.3991 - val_accuracy: 0.4728\n",
      "Epoch 67/100\n",
      "53/53 [==============================] - 1s 16ms/step - loss: 0.9581 - accuracy: 0.6040 - val_loss: 1.3894 - val_accuracy: 0.4397\n",
      "Epoch 68/100\n",
      "53/53 [==============================] - 1s 16ms/step - loss: 0.9480 - accuracy: 0.6058 - val_loss: 1.3848 - val_accuracy: 0.4539\n",
      "Epoch 69/100\n",
      "53/53 [==============================] - 1s 16ms/step - loss: 0.9479 - accuracy: 0.6076 - val_loss: 1.4041 - val_accuracy: 0.4539\n",
      "Epoch 70/100\n",
      "53/53 [==============================] - 1s 15ms/step - loss: 0.9525 - accuracy: 0.6017 - val_loss: 1.4056 - val_accuracy: 0.4374\n",
      "Epoch 71/100\n",
      "53/53 [==============================] - 1s 15ms/step - loss: 0.9491 - accuracy: 0.6099 - val_loss: 1.4343 - val_accuracy: 0.4515\n",
      "Epoch 72/100\n",
      "53/53 [==============================] - 1s 15ms/step - loss: 0.9484 - accuracy: 0.6117 - val_loss: 1.3839 - val_accuracy: 0.4728\n",
      "Epoch 73/100\n",
      "53/53 [==============================] - 1s 20ms/step - loss: 0.9472 - accuracy: 0.6046 - val_loss: 1.4128 - val_accuracy: 0.4444\n",
      "Epoch 74/100\n",
      "53/53 [==============================] - 1s 17ms/step - loss: 0.9470 - accuracy: 0.6117 - val_loss: 1.4135 - val_accuracy: 0.4586\n",
      "Epoch 75/100\n",
      "53/53 [==============================] - 1s 17ms/step - loss: 0.9343 - accuracy: 0.6046 - val_loss: 1.4070 - val_accuracy: 0.4539\n",
      "Epoch 76/100\n",
      "53/53 [==============================] - 1s 17ms/step - loss: 0.9495 - accuracy: 0.6123 - val_loss: 1.4220 - val_accuracy: 0.4539\n",
      "Epoch 77/100\n",
      "53/53 [==============================] - 1s 16ms/step - loss: 0.9398 - accuracy: 0.6046 - val_loss: 1.4106 - val_accuracy: 0.4444\n",
      "Epoch 78/100\n",
      "53/53 [==============================] - 1s 19ms/step - loss: 0.9371 - accuracy: 0.6022 - val_loss: 1.4399 - val_accuracy: 0.4374\n",
      "Epoch 79/100\n",
      "53/53 [==============================] - 1s 17ms/step - loss: 0.9348 - accuracy: 0.6046 - val_loss: 1.4265 - val_accuracy: 0.4515\n",
      "Epoch 80/100\n",
      "53/53 [==============================] - 1s 17ms/step - loss: 0.9381 - accuracy: 0.6111 - val_loss: 1.4226 - val_accuracy: 0.4539\n",
      "Epoch 81/100\n",
      "53/53 [==============================] - 1s 17ms/step - loss: 0.9339 - accuracy: 0.6129 - val_loss: 1.4851 - val_accuracy: 0.4468\n",
      "Epoch 82/100\n",
      "53/53 [==============================] - 1s 17ms/step - loss: 0.9378 - accuracy: 0.6253 - val_loss: 1.4621 - val_accuracy: 0.4326\n",
      "Epoch 83/100\n",
      "53/53 [==============================] - 1s 17ms/step - loss: 0.9351 - accuracy: 0.6005 - val_loss: 1.4576 - val_accuracy: 0.4255\n",
      "Epoch 84/100\n",
      "53/53 [==============================] - 1s 17ms/step - loss: 0.9387 - accuracy: 0.6040 - val_loss: 1.4423 - val_accuracy: 0.4539\n",
      "Epoch 85/100\n",
      "53/53 [==============================] - 1s 16ms/step - loss: 0.9339 - accuracy: 0.5952 - val_loss: 1.4369 - val_accuracy: 0.4374\n",
      "Epoch 86/100\n",
      "53/53 [==============================] - 1s 18ms/step - loss: 0.9247 - accuracy: 0.6176 - val_loss: 1.4479 - val_accuracy: 0.4563\n",
      "Epoch 87/100\n",
      "53/53 [==============================] - 1s 16ms/step - loss: 0.9260 - accuracy: 0.6147 - val_loss: 1.4718 - val_accuracy: 0.4586\n",
      "Epoch 88/100\n",
      "53/53 [==============================] - 1s 16ms/step - loss: 0.9299 - accuracy: 0.6141 - val_loss: 1.4528 - val_accuracy: 0.4492\n",
      "Epoch 89/100\n",
      "53/53 [==============================] - 1s 17ms/step - loss: 0.9263 - accuracy: 0.6229 - val_loss: 1.4346 - val_accuracy: 0.4468\n",
      "Epoch 90/100\n",
      "53/53 [==============================] - 1s 16ms/step - loss: 0.9191 - accuracy: 0.6135 - val_loss: 1.4444 - val_accuracy: 0.4586\n",
      "Epoch 91/100\n",
      "53/53 [==============================] - 1s 16ms/step - loss: 0.9178 - accuracy: 0.6271 - val_loss: 1.4801 - val_accuracy: 0.4468\n",
      "Epoch 92/100\n",
      "53/53 [==============================] - 1s 19ms/step - loss: 0.9184 - accuracy: 0.6229 - val_loss: 1.4300 - val_accuracy: 0.4421\n",
      "Epoch 93/100\n",
      "53/53 [==============================] - 1s 16ms/step - loss: 0.9173 - accuracy: 0.6206 - val_loss: 1.4567 - val_accuracy: 0.4728\n",
      "Epoch 94/100\n",
      "53/53 [==============================] - 1s 16ms/step - loss: 0.9123 - accuracy: 0.6359 - val_loss: 1.4967 - val_accuracy: 0.4634\n",
      "Epoch 95/100\n",
      "53/53 [==============================] - 1s 17ms/step - loss: 0.9101 - accuracy: 0.6288 - val_loss: 1.4791 - val_accuracy: 0.4492\n",
      "Epoch 96/100\n",
      "53/53 [==============================] - 1s 16ms/step - loss: 0.9117 - accuracy: 0.6212 - val_loss: 1.4572 - val_accuracy: 0.4444\n",
      "Epoch 97/100\n",
      "53/53 [==============================] - 1s 16ms/step - loss: 0.9149 - accuracy: 0.6259 - val_loss: 1.4926 - val_accuracy: 0.4610\n",
      "Epoch 98/100\n",
      "53/53 [==============================] - 1s 17ms/step - loss: 0.9155 - accuracy: 0.6200 - val_loss: 1.4692 - val_accuracy: 0.4704\n",
      "Epoch 99/100\n",
      "53/53 [==============================] - 1s 18ms/step - loss: 0.9160 - accuracy: 0.6247 - val_loss: 1.4925 - val_accuracy: 0.4492\n",
      "Epoch 100/100\n",
      "53/53 [==============================] - 1s 18ms/step - loss: 0.9078 - accuracy: 0.6277 - val_loss: 1.4641 - val_accuracy: 0.4515\n"
     ]
    },
    {
     "data": {
      "text/plain": [
       "<keras.callbacks.History at 0x7f7b929d9660>"
      ]
     },
     "execution_count": 167,
     "metadata": {},
     "output_type": "execute_result"
    }
   ],
   "source": [
    "\n",
    "res_clf.compile(optimizer=optimizer, loss=loss_function, metrics='accuracy')\n",
    "res_clf.fit(x=X_train_grayscale, validation_data=X_valid_grayscale, epochs=100)"
   ]
  },
  {
   "attachments": {},
   "cell_type": "markdown",
   "metadata": {},
   "source": [
    "#### 2. Optimize the classification accuracy across all subjects. How does the classifier do? Do you notice any interesting trends?"
   ]
  },
  {
   "cell_type": "code",
   "execution_count": null,
   "metadata": {},
   "outputs": [],
   "source": []
  },
  {
   "attachments": {},
   "cell_type": "markdown",
   "metadata": {},
   "source": [
    "#### 3. Evaluate the classification accuracy as a function of time (e.g., does it increase as you have data over longer periods of time? how much time is required to get a reasonable classification accuracy?)"
   ]
  },
  {
   "cell_type": "code",
   "execution_count": null,
   "metadata": {},
   "outputs": [],
   "source": []
  },
  {
   "attachments": {},
   "cell_type": "markdown",
   "metadata": {},
   "source": [
    "## Deeper Exploration and Analysis into other architectures"
   ]
  }
 ],
 "metadata": {
  "kernelspec": {
   "display_name": "ee147",
   "language": "python",
   "name": "python3"
  },
  "language_info": {
   "codemirror_mode": {
    "name": "ipython",
    "version": 3
   },
   "file_extension": ".py",
   "mimetype": "text/x-python",
   "name": "python",
   "nbconvert_exporter": "python",
   "pygments_lexer": "ipython3",
   "version": "3.10.9"
  }
 },
 "nbformat": 4,
 "nbformat_minor": 2
}
